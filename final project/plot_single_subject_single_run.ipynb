{
 "cells": [
  {
   "cell_type": "code",
   "execution_count": 4,
   "metadata": {},
   "outputs": [
    {
     "ename": "ModuleNotFoundError",
     "evalue": "No module named 'nilearn'",
     "output_type": "error",
     "traceback": [
      "\u001b[0;31m---------------------------------------------------------------------------\u001b[0m",
      "\u001b[0;31mModuleNotFoundError\u001b[0m                       Traceback (most recent call last)",
      "\u001b[0;32m/var/folders/1h/d7jrhj0912qc6jg546194yyr0000gn/T/ipykernel_66284/3340520341.py\u001b[0m in \u001b[0;36m<module>\u001b[0;34m\u001b[0m\n\u001b[1;32m      1\u001b[0m \u001b[0mget_ipython\u001b[0m\u001b[0;34m(\u001b[0m\u001b[0;34m)\u001b[0m\u001b[0;34m.\u001b[0m\u001b[0mrun_line_magic\u001b[0m\u001b[0;34m(\u001b[0m\u001b[0;34m'matplotlib'\u001b[0m\u001b[0;34m,\u001b[0m \u001b[0;34m'inline'\u001b[0m\u001b[0;34m)\u001b[0m\u001b[0;34m\u001b[0m\u001b[0;34m\u001b[0m\u001b[0m\n\u001b[0;32m----> 2\u001b[0;31m \u001b[0;32mimport\u001b[0m \u001b[0mnilearn\u001b[0m\u001b[0;34m\u001b[0m\u001b[0;34m\u001b[0m\u001b[0m\n\u001b[0m",
      "\u001b[0;31mModuleNotFoundError\u001b[0m: No module named 'nilearn'"
     ]
    }
   ],
   "source": [
    "%matplotlib inline\n",
    "import nilearn"
   ]
  },
  {
   "cell_type": "markdown",
   "metadata": {},
   "source": [
    "# Intro to GLM Analysis: a single-session, single-subject fMRI dataset\n",
    "\n",
    "In this tutorial, we use a General Linear Model (:term:`GLM`) to compare the\n",
    ":term:`fMRI` signal during periods of auditory stimulation versus periods of rest.\n",
    "\n",
    "The analyse described here is performed in the native space, directly on the\n",
    "original :term:`EPI` scans without any spatial or temporal preprocessing.\n",
    "(More sensitive results would likely be obtained on the corrected,\n",
    "spatially normalized and smoothed images).\n",
    "\n",
    "## The data\n",
    "\n",
    "The dataset comes from an experiment conducted at the FIL by Geraint Rees\n",
    "under the direction of Karl Friston. It is provided by FIL methods\n",
    "group which develops the SPM software.\n",
    "\n",
    "According to SPM documentation, 96 scans were acquired (repetition time\n",
    ":term:`TR` = 7s) in one session. The paradigm consisted of alternating periods\n",
    "of stimulation and rest, lasting 42s each (that is, for 6 scans). The session\n",
    "started with a rest block.  Auditory stimulation consisted of bi-syllabic words\n",
    "presented binaurally at a rate of 60 per minute. The functional data starts at scan\n",
    "number 4, that is the image file ``fM00223_004``.\n",
    "\n",
    "The whole brain :term:`BOLD`/:term:`EPI` images were acquired on a 2T Siemens\n",
    "MAGNETOM Vision system. Each scan consisted of 64 contiguous slices (64x64x64\n",
    "3mm x 3mm x 3mm :term:`voxels<voxel>`). Acquisition of one scan took 6.05s, with the\n",
    "scan to scan repeat time (:term:`TR`) set arbitrarily to 7s.\n"
   ]
  },
  {
   "cell_type": "markdown",
   "metadata": {},
   "source": [
    "## Retrieving the data\n",
    "\n",
    "<div class=\"alert alert-info\"><h4>Note</h4><p>In this tutorial, we load the data using a data downloading\n",
    "          function. To input your own data, you will need to provide\n",
    "          a list of paths to your own files in the ``subject_data`` variable.\n",
    "          These should abide to the Brain Imaging Data Structure (:term:`BIDS`)\n",
    "          organization.</p></div>\n",
    "\n"
   ]
  },
  {
   "cell_type": "code",
   "execution_count": 3,
   "metadata": {},
   "outputs": [
    {
     "ename": "ModuleNotFoundError",
     "evalue": "No module named 'nilearn'",
     "output_type": "error",
     "traceback": [
      "\u001b[0;31m---------------------------------------------------------------------------\u001b[0m",
      "\u001b[0;31mModuleNotFoundError\u001b[0m                       Traceback (most recent call last)",
      "\u001b[0;32m/var/folders/1h/d7jrhj0912qc6jg546194yyr0000gn/T/ipykernel_66284/2152984366.py\u001b[0m in \u001b[0;36m<module>\u001b[0;34m\u001b[0m\n\u001b[0;32m----> 1\u001b[0;31m \u001b[0;32mfrom\u001b[0m \u001b[0mnilearn\u001b[0m\u001b[0;34m.\u001b[0m\u001b[0mdatasets\u001b[0m \u001b[0;32mimport\u001b[0m \u001b[0mfetch_spm_auditory\u001b[0m\u001b[0;34m\u001b[0m\u001b[0;34m\u001b[0m\u001b[0m\n\u001b[0m\u001b[1;32m      2\u001b[0m \u001b[0msubject_data\u001b[0m \u001b[0;34m=\u001b[0m \u001b[0mfetch_spm_auditory\u001b[0m\u001b[0;34m(\u001b[0m\u001b[0;34m)\u001b[0m\u001b[0;34m\u001b[0m\u001b[0;34m\u001b[0m\u001b[0m\n\u001b[1;32m      3\u001b[0m \u001b[0msubject_data\u001b[0m\u001b[0;34m.\u001b[0m\u001b[0mfunc\u001b[0m  \u001b[0;31m# print the list of names of functional images\u001b[0m\u001b[0;34m\u001b[0m\u001b[0;34m\u001b[0m\u001b[0m\n",
      "\u001b[0;31mModuleNotFoundError\u001b[0m: No module named 'nilearn'"
     ]
    }
   ],
   "source": [
    "from nilearn.datasets import fetch_spm_auditory\n",
    "subject_data = fetch_spm_auditory()\n",
    "subject_data.func  # print the list of names of functional images"
   ]
  },
  {
   "cell_type": "markdown",
   "metadata": {},
   "source": [
    "We can display the first functional image and the subject's anatomy:\n",
    "\n"
   ]
  },
  {
   "cell_type": "code",
   "execution_count": null,
   "metadata": {},
   "outputs": [],
   "source": [
    "from nilearn.plotting import plot_stat_map, plot_anat, plot_img\n",
    "plot_img(subject_data.func[0], colorbar=True, cbar_tick_format=\"%i\")\n",
    "plot_anat(subject_data.anat, colorbar=True, cbar_tick_format=\"%i\")"
   ]
  },
  {
   "cell_type": "markdown",
   "metadata": {},
   "source": [
    "Next, we concatenate all the 3D :term:`EPI` image into a single 4D image,\n",
    "then we average them in order to create a background\n",
    "image that will be used to display the activations:\n",
    "\n"
   ]
  },
  {
   "cell_type": "code",
   "execution_count": null,
   "metadata": {},
   "outputs": [],
   "source": [
    "from nilearn.image import concat_imgs, mean_img\n",
    "fmri_img = concat_imgs(subject_data.func)\n",
    "mean_img = mean_img(fmri_img)"
   ]
  },
  {
   "cell_type": "markdown",
   "metadata": {},
   "source": [
    "## Specifying the experimental paradigm\n",
    "\n",
    "We must now provide a description of the experiment, that is, define the\n",
    "timing of the auditory stimulation and rest periods. This is typically\n",
    "provided in an events.tsv file. The path of this file is\n",
    "provided in the dataset.\n",
    "\n"
   ]
  },
  {
   "cell_type": "code",
   "execution_count": null,
   "metadata": {},
   "outputs": [],
   "source": [
    "import pandas as pd\n",
    "events = pd.read_table(subject_data['events'])\n",
    "events"
   ]
  },
  {
   "cell_type": "markdown",
   "metadata": {},
   "source": [
    "## Performing the GLM analysis\n",
    "\n",
    "It is now time to create and estimate a ``FirstLevelModel`` object, that will generate the *design matrix* using the  information provided by the ``events`` object.\n",
    "\n"
   ]
  },
  {
   "cell_type": "code",
   "execution_count": null,
   "metadata": {},
   "outputs": [],
   "source": [
    "from nilearn.glm.first_level import FirstLevelModel"
   ]
  },
  {
   "cell_type": "markdown",
   "metadata": {},
   "source": [
    "Parameters of the first-level model\n",
    "\n",
    "* t_r=7(s) is the time of repetition of acquisitions\n",
    "* noise_model='ar1' specifies the noise covariance model: a lag-1 dependence\n",
    "* standardize=False means that we do not want to rescale the time series to mean 0, variance 1\n",
    "* hrf_model='spm' means that we rely on the SPM \"canonical hrf\" model (without time or dispersion derivatives)\n",
    "* drift_model='cosine' means that we model the signal drifts as slow oscillating time functions\n",
    "* high_pass=0.01(Hz) defines the cutoff frequency (inverse of the time period).\n",
    "\n"
   ]
  },
  {
   "cell_type": "code",
   "execution_count": null,
   "metadata": {},
   "outputs": [],
   "source": [
    "fmri_glm = FirstLevelModel(t_r=7,\n",
    "                           noise_model='ar1',\n",
    "                           standardize=False,\n",
    "                           hrf_model='spm',\n",
    "                           drift_model='cosine',\n",
    "                           high_pass=.01)"
   ]
  },
  {
   "cell_type": "markdown",
   "metadata": {},
   "source": [
    "Now that we have specified the model, we can run it on the :term:`fMRI` image\n",
    "\n"
   ]
  },
  {
   "cell_type": "code",
   "execution_count": null,
   "metadata": {},
   "outputs": [],
   "source": [
    "fmri_glm = fmri_glm.fit(fmri_img, events)"
   ]
  },
  {
   "cell_type": "markdown",
   "metadata": {},
   "source": [
    "One can inspect the design matrix (rows represent time, and\n",
    "columns contain the predictors).\n",
    "\n"
   ]
  },
  {
   "cell_type": "code",
   "execution_count": null,
   "metadata": {},
   "outputs": [],
   "source": [
    "design_matrix = fmri_glm.design_matrices_[0]"
   ]
  },
  {
   "cell_type": "markdown",
   "metadata": {},
   "source": [
    "Formally, we have taken the first design matrix, because the model is\n",
    "implictily meant to for multiple runs.\n",
    "\n"
   ]
  },
  {
   "cell_type": "code",
   "execution_count": null,
   "metadata": {},
   "outputs": [],
   "source": [
    "from nilearn.plotting import plot_design_matrix\n",
    "plot_design_matrix(design_matrix)\n",
    "import matplotlib.pyplot as plt\n",
    "plt.show()"
   ]
  },
  {
   "cell_type": "markdown",
   "metadata": {},
   "source": [
    "Save the design matrix image to disk\n",
    "first create a directory where you want to write the images\n",
    "\n"
   ]
  },
  {
   "cell_type": "code",
   "execution_count": null,
   "metadata": {},
   "outputs": [],
   "source": [
    "import os\n",
    "outdir = 'results'\n",
    "if not os.path.exists(outdir):\n",
    "    os.mkdir(outdir)\n",
    "\n",
    "from os.path import join\n",
    "plot_design_matrix(\n",
    "    design_matrix, output_file=join(outdir, 'design_matrix.png'))"
   ]
  },
  {
   "cell_type": "markdown",
   "metadata": {},
   "source": [
    "The first column contains the expected response profile of regions which are\n",
    "sensitive to the auditory stimulation.\n",
    "Let's plot this first column\n",
    "\n"
   ]
  },
  {
   "cell_type": "code",
   "execution_count": null,
   "metadata": {},
   "outputs": [],
   "source": [
    "plt.plot(design_matrix['active'])\n",
    "plt.xlabel('scan')\n",
    "plt.title('Expected Auditory Response')\n",
    "plt.show()"
   ]
  },
  {
   "cell_type": "markdown",
   "metadata": {},
   "source": [
    "## Detecting voxels with significant effects\n",
    "\n",
    "To access the estimated coefficients (Betas of the :term:`GLM` model), we\n",
    "created :term:`contrast` with a single '1' in each of the columns: The role\n",
    "of the :term:`contrast` is to select some columns of the model --and\n",
    "potentially weight them-- to study the associated statistics. So in\n",
    "a nutshell, a contrast is a weighted combination of the estimated\n",
    "effects.  Here we can define canonical contrasts that just consider\n",
    "the two effects in isolation ---let's call them \"conditions\"---\n",
    "then a :term:`contrast` that makes the difference between these conditions.\n",
    "\n"
   ]
  },
  {
   "cell_type": "code",
   "execution_count": null,
   "metadata": {},
   "outputs": [],
   "source": [
    "from numpy import array\n",
    "conditions = {\n",
    "    'active': array([1., 0., 0., 0., 0., 0., 0., 0., 0., 0., 0., 0., 0., 0., 0.,\n",
    "                     0.]),\n",
    "    'rest':   array([0., 1., 0., 0., 0., 0., 0., 0., 0., 0., 0., 0., 0., 0., 0.,\n",
    "                     0.]),\n",
    "}"
   ]
  },
  {
   "cell_type": "markdown",
   "metadata": {},
   "source": [
    "We can then compare the two conditions 'active' and 'rest' by\n",
    "defining the corresponding :term:`contrast`:\n",
    "\n"
   ]
  },
  {
   "cell_type": "code",
   "execution_count": null,
   "metadata": {},
   "outputs": [],
   "source": [
    "active_minus_rest = conditions['active'] - conditions['rest']"
   ]
  },
  {
   "cell_type": "markdown",
   "metadata": {},
   "source": [
    "Let's look at it: plot the coefficients of the :term:`contrast`, indexed by\n",
    "the names of the columns of the design matrix.\n",
    "\n"
   ]
  },
  {
   "cell_type": "code",
   "execution_count": null,
   "metadata": {},
   "outputs": [],
   "source": [
    "from nilearn.plotting import plot_contrast_matrix\n",
    "plot_contrast_matrix(active_minus_rest, design_matrix=design_matrix)"
   ]
  },
  {
   "cell_type": "markdown",
   "metadata": {},
   "source": [
    "Below, we compute the :term:`'estimated effect'<Parameter Estimate>`.\n",
    "It is in :term:`BOLD` signal unit, but has no statistical guarantees,\n",
    "because it does not take into account the associated variance.\n",
    "\n"
   ]
  },
  {
   "cell_type": "code",
   "execution_count": null,
   "metadata": {},
   "outputs": [],
   "source": [
    "eff_map = fmri_glm.compute_contrast(active_minus_rest,\n",
    "                                    output_type='effect_size')"
   ]
  },
  {
   "cell_type": "markdown",
   "metadata": {},
   "source": [
    "In order to get statistical significance, we form a t-statistic, and\n",
    "directly convert it into z-scale. The z-scale means that the values\n",
    "are scaled to match a standard Gaussian distribution (mean=0,\n",
    "variance=1), across voxels, if there were no effects in the data.\n",
    "\n"
   ]
  },
  {
   "cell_type": "code",
   "execution_count": null,
   "metadata": {},
   "outputs": [],
   "source": [
    "z_map = fmri_glm.compute_contrast(active_minus_rest,\n",
    "                                  output_type='z_score')"
   ]
  },
  {
   "cell_type": "markdown",
   "metadata": {},
   "source": [
    "## Plot thresholded z scores map\n",
    "\n",
    "We display it on top of the average\n",
    "functional image of the series (could be the anatomical image of the\n",
    "subject).  We use arbitrarily a threshold of 3.0 in z-scale. We'll\n",
    "see later how to use corrected thresholds. We will show 3\n",
    "axial views, with display_mode='z' and cut_coords=3.\n",
    "\n"
   ]
  },
  {
   "cell_type": "code",
   "execution_count": null,
   "metadata": {},
   "outputs": [],
   "source": [
    "plot_stat_map(z_map, bg_img=mean_img, threshold=3.0,\n",
    "              display_mode='z', cut_coords=3, black_bg=True,\n",
    "              title='Active minus Rest (Z>3)')\n",
    "plt.show()"
   ]
  },
  {
   "cell_type": "markdown",
   "metadata": {},
   "source": [
    "Statistical significance testing. One should worry about the\n",
    "statistical validity of the procedure: here we used an arbitrary\n",
    "threshold of 3.0 but the threshold should provide some guarantees on\n",
    "the risk of false detections (aka type-1 errors in statistics).\n",
    "One suggestion is to control the false positive rate (:term:`fpr<FPR correction>`, denoted by\n",
    "alpha) at a certain level, e.g. 0.001: this means that there is 0.1% chance\n",
    "of declaring an inactive :term:`voxel`, active.\n",
    "\n"
   ]
  },
  {
   "cell_type": "code",
   "execution_count": null,
   "metadata": {},
   "outputs": [],
   "source": [
    "from nilearn.glm import threshold_stats_img\n",
    "_, threshold = threshold_stats_img(z_map, alpha=.001, height_control='fpr')\n",
    "print('Uncorrected p<0.001 threshold: %.3f' % threshold)\n",
    "plot_stat_map(z_map, bg_img=mean_img, threshold=threshold,\n",
    "              display_mode='z', cut_coords=3, black_bg=True,\n",
    "              title='Active minus Rest (p<0.001)')\n",
    "plt.show()"
   ]
  },
  {
   "cell_type": "markdown",
   "metadata": {},
   "source": [
    "The problem is that with this you expect 0.001 * n_voxels to show up\n",
    "while they're not active --- tens to hundreds of voxels. A more\n",
    "conservative solution is to control the family wise error rate,\n",
    "i.e. the probability of making only one false detection, say at\n",
    "5%. For that we use the so-called Bonferroni correction.\n",
    "\n"
   ]
  },
  {
   "cell_type": "code",
   "execution_count": null,
   "metadata": {},
   "outputs": [],
   "source": [
    "_, threshold = threshold_stats_img(\n",
    "    z_map, alpha=.05, height_control='bonferroni')\n",
    "print('Bonferroni-corrected, p<0.05 threshold: %.3f' % threshold)\n",
    "plot_stat_map(z_map, bg_img=mean_img, threshold=threshold,\n",
    "              display_mode='z', cut_coords=3, black_bg=True,\n",
    "              title='Active minus Rest (p<0.05, corrected)')\n",
    "plt.show()"
   ]
  },
  {
   "cell_type": "markdown",
   "metadata": {},
   "source": [
    "This is quite conservative indeed!  A popular alternative is to\n",
    "control the expected proportion of\n",
    "false discoveries among detections. This is called the False\n",
    "discovery rate.\n",
    "\n"
   ]
  },
  {
   "cell_type": "code",
   "execution_count": null,
   "metadata": {},
   "outputs": [],
   "source": [
    "_, threshold = threshold_stats_img(z_map, alpha=.05, height_control='fdr')\n",
    "print('False Discovery rate = 0.05 threshold: %.3f' % threshold)\n",
    "plot_stat_map(z_map, bg_img=mean_img, threshold=threshold,\n",
    "              display_mode='z', cut_coords=3, black_bg=True,\n",
    "              title='Active minus Rest (fdr=0.05)')\n",
    "plt.show()"
   ]
  },
  {
   "cell_type": "markdown",
   "metadata": {},
   "source": [
    "Finally people like to discard isolated voxels (aka \"small\n",
    "clusters\") from these images. It is possible to generate a\n",
    "thresholded map with small clusters removed by providing a\n",
    "cluster_threshold argument. Here clusters smaller than 10 voxels\n",
    "will be discarded.\n",
    "\n"
   ]
  },
  {
   "cell_type": "code",
   "execution_count": null,
   "metadata": {},
   "outputs": [],
   "source": [
    "clean_map, threshold = threshold_stats_img(\n",
    "    z_map, alpha=.05, height_control='fdr', cluster_threshold=10)\n",
    "plot_stat_map(clean_map, bg_img=mean_img, threshold=threshold,\n",
    "              display_mode='z', cut_coords=3, black_bg=True,\n",
    "              title='Active minus Rest (fdr=0.05), clusters > 10 voxels')\n",
    "plt.show()"
   ]
  },
  {
   "cell_type": "markdown",
   "metadata": {},
   "source": [
    "We can save the effect and zscore maps to the disk.\n",
    "\n"
   ]
  },
  {
   "cell_type": "code",
   "execution_count": null,
   "metadata": {},
   "outputs": [],
   "source": [
    "z_map.to_filename(join(outdir, 'active_vs_rest_z_map.nii.gz'))\n",
    "eff_map.to_filename(join(outdir, 'active_vs_rest_eff_map.nii.gz'))"
   ]
  },
  {
   "cell_type": "markdown",
   "metadata": {},
   "source": [
    "We can furthermore extract and report the found positions in a table.\n",
    "\n"
   ]
  },
  {
   "cell_type": "code",
   "execution_count": null,
   "metadata": {},
   "outputs": [],
   "source": [
    "from nilearn.reporting import get_clusters_table\n",
    "table = get_clusters_table(z_map, stat_threshold=threshold,\n",
    "                           cluster_threshold=20)\n",
    "table"
   ]
  },
  {
   "cell_type": "markdown",
   "metadata": {},
   "source": [
    "This table can be saved for future use.\n",
    "\n"
   ]
  },
  {
   "cell_type": "code",
   "execution_count": null,
   "metadata": {},
   "outputs": [],
   "source": [
    "table.to_csv(join(outdir, 'table.csv'))"
   ]
  },
  {
   "cell_type": "markdown",
   "metadata": {},
   "source": [
    "## Performing an F-test\n",
    "\n",
    "\"active vs rest\" is a typical t test: condition versus\n",
    "baseline. Another popular type of test is an F test in which one\n",
    "seeks whether a certain combination of conditions (possibly two-,\n",
    "three- or higher-dimensional) explains a significant proportion of\n",
    "the signal.  Here one might for instance test which voxels are well\n",
    "explained by the combination of the active and rest condition.\n",
    "\n"
   ]
  },
  {
   "cell_type": "markdown",
   "metadata": {},
   "source": [
    "Specify the contrast and compute the corresponding map. Actually, the\n",
    "contrast specification is done exactly the same way as for t-\n",
    "contrasts.\n",
    "\n"
   ]
  },
  {
   "cell_type": "code",
   "execution_count": null,
   "metadata": {},
   "outputs": [],
   "source": [
    "import numpy as np\n",
    "effects_of_interest = np.vstack((conditions['active'], conditions['rest']))\n",
    "plot_contrast_matrix(effects_of_interest, design_matrix)\n",
    "plt.show()\n",
    "\n",
    "z_map = fmri_glm.compute_contrast(effects_of_interest,\n",
    "                                  output_type='z_score')"
   ]
  },
  {
   "cell_type": "markdown",
   "metadata": {},
   "source": [
    "Note that the statistic has been converted to a z-variable, which\n",
    "makes it easier to represent it.\n",
    "\n"
   ]
  },
  {
   "cell_type": "code",
   "execution_count": null,
   "metadata": {},
   "outputs": [],
   "source": [
    "clean_map, threshold = threshold_stats_img(\n",
    "    z_map, alpha=.05, height_control='fdr', cluster_threshold=10)\n",
    "plot_stat_map(clean_map, bg_img=mean_img, threshold=threshold,\n",
    "              display_mode='z', cut_coords=3, black_bg=True,\n",
    "              title='Effects of interest (fdr=0.05), clusters > 10 voxels')\n",
    "plt.show()"
   ]
  },
  {
   "cell_type": "markdown",
   "metadata": {},
   "source": [
    "Oops, there is a lot of non-neural signal in there (ventricles, arteries)...\n",
    "\n"
   ]
  }
 ],
 "metadata": {
  "kernelspec": {
   "display_name": "Python 3 (ipykernel)",
   "language": "python",
   "name": "python3"
  },
  "language_info": {
   "codemirror_mode": {
    "name": "ipython",
    "version": 3
   },
   "file_extension": ".py",
   "mimetype": "text/x-python",
   "name": "python",
   "nbconvert_exporter": "python",
   "pygments_lexer": "ipython3",
   "version": "3.9.13"
  }
 },
 "nbformat": 4,
 "nbformat_minor": 1
}
