{
 "cells": [
  {
   "cell_type": "code",
   "execution_count": 160,
   "id": "f18ca700",
   "metadata": {},
   "outputs": [
    {
     "data": {
      "image/svg+xml": [
       "<svg xmlns=\"http://www.w3.org/2000/svg\" xmlns:xlink=\"http://www.w3.org/1999/xlink\" width=\"400\" height=\"400\" style=\"background-color:cyan\">\n",
       "\n",
       "    <circle cx=\"300\" cy=\"100\" r=\"60\" style=\"fill:yellow;stroke:black;stroke-width:1\"/> <!-- sun -->\n",
       "   \n",
       "\n",
       "    <rect x=\"0\" y=\"200\" width=\"200\" height=\"200\" style=\"fill:burlywood;stroke:black;stroke-width:1\"/> <!-- house -->\n",
       "    \n",
       "    <polygon points=\"100,30, 200,200, 0,200\" style=\"fill:darkgoldenrod;stroke:black;stroke-width:1\"/> <!-- roof -->\n",
       "        \n",
       "    <rect x=\"10\" y=\"280\" width=\"60\" height=\"130\" style=\"fill:chocolate;stroke:black;stroke-width:1\"/> <!-- door -->\n",
       "    \n",
       "    <rect x=\"120\" y=\"280\" width=\"50\" height=\"50\" style=\"fill:blanchedalmond;stroke:black;stroke-width:1\"/> <!-- window -->\n",
       "    \n",
       "    <!-- figure -->\n",
       "   \n",
       "    <circle cx=\"270\" cy=\"300\" r=\"20\" style=\"fill:cyan;stroke:black;stroke-width:2\"/> \n",
       "    \n",
       "</svg>"
      ],
      "text/plain": [
       "<IPython.core.display.SVG object>"
      ]
     },
     "metadata": {},
     "output_type": "display_data"
    }
   ],
   "source": [
    "%%SVG\n",
    "<svg width=\"400\" height=\"400\" xmlns=\"http://www.w3.org/2000/svg\" style=\"background-color:cyan\"\n",
    "     xmlns:xlink=\"http://www.w3.org/1999/xlink\">\n",
    "\n",
    "    <circle cx=\"300\" cy=\"100\" r=\"60\" style=\"fill:yellow;stroke:black;stroke-width:1\" /> <!-- sun -->\n",
    "   \n",
    "\n",
    "    <rect x=\"0\" y=\"200\" width=\"200\" height=\"200\" style=\"fill:burlywood;stroke:black;stroke-width:1\"/> <!-- house -->\n",
    "    \n",
    "    <polygon points=\"100,30, 200,200, 0,200\" \n",
    "        style=\"fill:darkgoldenrod;stroke:black;stroke-width:1\" /> <!-- roof -->\n",
    "        \n",
    "    <rect x=\"10\" y=\"280\" width=\"60\" height=\"130\" style=\"fill:chocolate;stroke:black;stroke-width:1\"/> <!-- door -->\n",
    "    \n",
    "    <rect x=\"120\" y=\"280\" width=\"50\" height=\"50\" style=\"fill:blanchedalmond;stroke:black;stroke-width:1\"/> <!-- window -->\n",
    "    \n",
    "    <!-- figure -->\n",
    "   \n",
    "    <circle cx=\"270\" cy=\"300\" r=\"20\" style=\"fill:cyan;stroke:black;stroke-width:2\" /> \n",
    "    \n",
    "</svg>\n"
   ]
  },
  {
   "cell_type": "code",
   "execution_count": null,
   "id": "190e51fb",
   "metadata": {},
   "outputs": [],
   "source": []
  }
 ],
 "metadata": {
  "kernelspec": {
   "display_name": "Python 3 (ipykernel)",
   "language": "python",
   "name": "python3"
  },
  "language_info": {
   "codemirror_mode": {
    "name": "ipython",
    "version": 3
   },
   "file_extension": ".py",
   "mimetype": "text/x-python",
   "name": "python",
   "nbconvert_exporter": "python",
   "pygments_lexer": "ipython3",
   "version": "3.9.7"
  }
 },
 "nbformat": 4,
 "nbformat_minor": 5
}
