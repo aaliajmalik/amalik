{
 "cells": [
  {
   "attachments": {},
   "cell_type": "markdown",
   "id": "20f8664b",
   "metadata": {},
   "source": [
    "# <span style=\"color:blue\"> How Mind-Wandering Relates to Insight-Based Learning\n",
    "## Aalia Malik\n",
    "### Keck Science Summer 2022 \n",
    "\n",
    "\n",
    "**What is Mind-wandering?**\n",
    "\n",
    "- Refers to thoughts that arise which are not related to the immediate environment\n",
    "- Spontaneous internal process that is often unaware\n",
    "- Has been the subject of numerous studies in the recent years\n",
    "\n",
    "**Challenges of studying Mind-wandering**\n",
    "\n",
    "- Internal processes which may be hard to quantify\n",
    "- Most studies utilize probing techniques or questionnaires \n",
    "\n",
    "**Advantages of Hexxed Data**\n",
    "\n",
    "- Task that require creative insignt\n",
    "- Standard for modeling\n",
    "- Large sample size\n",
    "\n",
    "**Gameplay Timeline**\n",
    "\n",
    "![image](gametimeline.png)\n",
    "\n",
    "**Hypothesis**\n",
    "- How does mind-wandering relate to insight-based learning?\n",
    "- If players take more time before initial action (mind-wander), they will be more likely to complete the first level.\n",
    "- Rationale: Time outside the game allows people put aside the task and re-enter the task with a “clean slate”\n",
    "\n",
    "**Results**\n",
    "| Reaction time vs. Number of Level Attempts      | Log of Reaction time vs. Number of Level Attempts | Regression of Reaction time vs. Number of Level Attempts     | Mean Reaction Time vs. Number of Level Attempts        |\n",
    "| :---:        |    :----:   |          :---: |     :---:    |\n",
    "|       ![image](graph1.png)     | ![image](graph2.png)       |       ![image](graph3.png)   |       ![image](graph4.png)     |\n",
    "| Distributions of the first reaction times and level attempts for winners and quitters    | This is the ‘log’ of the recored values in order to scale the data. This helps to reduce the impact of outliers.       |  Regression to predict the number of attempts for both winners and quitters      |   Quitters spent more time before making a move regardless of how many attempts they required.          |\n",
    "\n",
    "**Results**\n",
    "- Results did not support the hypothesis \n",
    "- Spending more time off task decreases the likelihood that the player will win\n",
    "- Possible interpretation: People that beat the game are more focused and those that quit are more discouraged/disinterested\n",
    "\n",
    "\n",
    "\n",
    "**Discussion**\n",
    "Overall, it can be concluded that more time off-task during the initial investment stage resulted in more attempts to complete the first level. This contradicted my hypothesis and was the opposite of what was predicted. Spending more time on the game decreases the likelihood that the player will win. \n",
    "A possible interpretation of the results may be that those who beat the game are faster and more focused compared to those that might have been disinterested and discouraged, and eventually quit the game. These findings may be applied to strategies for learning by encouraging students to follow their intuition instead of spending time thinking about many choices.  \n",
    "\n",
    "**Acknowledgements**\n",
    "Thank you to Professor Agarwal and all of the lab members for their support!\n",
    "\n",
    "\n",
    "![image](groupphoto.png)\n",
    "\n",
    "\n"
   ]
  },
  {
   "cell_type": "code",
   "execution_count": null,
   "id": "12d3016b",
   "metadata": {},
   "outputs": [],
   "source": []
  },
  {
   "cell_type": "code",
   "execution_count": 1,
   "id": "f18ca700",
   "metadata": {},
   "outputs": [
    {
     "data": {
      "image/svg+xml": "<svg xmlns=\"http://www.w3.org/2000/svg\" xmlns:xlink=\"http://www.w3.org/1999/xlink\" width=\"400\" height=\"400\" style=\"background-color:cyan\">\n\n    <circle cx=\"300\" cy=\"100\" r=\"60\" style=\"fill:yellow;stroke:black;stroke-width:1\"/> <!-- sun -->\n   \n\n    <rect x=\"0\" y=\"200\" width=\"200\" height=\"200\" style=\"fill:burlywood;stroke:black;stroke-width:1\"/> <!-- house -->\n    \n    <polygon points=\"100,30, 200,200, 0,200\" style=\"fill:darkgoldenrod;stroke:black;stroke-width:1\"/> <!-- roof -->\n        \n    <rect x=\"10\" y=\"280\" width=\"60\" height=\"130\" style=\"fill:chocolate;stroke:black;stroke-width:1\"/> <!-- door -->\n    \n    <rect x=\"120\" y=\"280\" width=\"50\" height=\"50\" style=\"fill:blanchedalmond;stroke:black;stroke-width:1\"/> <!-- window -->\n    \n    <!-- figure -->\n   \n    <circle cx=\"270\" cy=\"300\" r=\"20\" style=\"fill:cyan;stroke:black;stroke-width:2\"/> \n\n        <line x1=\"270\" y1=\"320\" x2=\"270\" y2=\"400\" style=\"fill:black;stroke:black;stroke-width:2\"/>\n        \n        <line x1=\"220\" y1=\"330\" x2=\"310\" y2=\"320\" style=\"fill:black;stroke:black;stroke-width:2\"/>\n\n    \n</svg>",
      "text/plain": [
       "<IPython.core.display.SVG object>"
      ]
     },
     "metadata": {},
     "output_type": "display_data"
    }
   ],
   "source": [
    "%%SVG\n",
    "<svg width=\"400\" height=\"400\" xmlns=\"http://www.w3.org/2000/svg\" style=\"background-color:cyan\"\n",
    "     xmlns:xlink=\"http://www.w3.org/1999/xlink\">\n",
    "\n",
    "    <circle cx=\"300\" cy=\"100\" r=\"60\" style=\"fill:yellow;stroke:black;stroke-width:1\" /> <!-- sun -->\n",
    "   \n",
    "\n",
    "    <rect x=\"0\" y=\"200\" width=\"200\" height=\"200\" style=\"fill:burlywood;stroke:black;stroke-width:1\"/> <!-- house -->\n",
    "    \n",
    "    <polygon points=\"100,30, 200,200, 0,200\" \n",
    "        style=\"fill:darkgoldenrod;stroke:black;stroke-width:1\" /> <!-- roof -->\n",
    "        \n",
    "    <rect x=\"10\" y=\"280\" width=\"60\" height=\"130\" style=\"fill:chocolate;stroke:black;stroke-width:1\"/> <!-- door -->\n",
    "    \n",
    "    <rect x=\"120\" y=\"280\" width=\"50\" height=\"50\" style=\"fill:blanchedalmond;stroke:black;stroke-width:1\"/> <!-- window -->\n",
    "    \n",
    "    <!-- figure -->\n",
    "   \n",
    "    <circle cx=\"270\" cy=\"300\" r=\"20\" style=\"fill:cyan;stroke:black;stroke-width:2\" /> \n",
    "\n",
    "        <line x1=\"270\" y1=\"320\" x2=\"270\" y2=\"400\"\n",
    "    \n",
    "    style=\"fill:black;stroke:black;stroke-width:2\" />\n",
    "        \n",
    "        <line x1=\"220\" y1=\"330\" x2=\"310\" y2=\"320\"\n",
    "    style=\"fill:black;stroke:black;stroke-width:2\" />\n",
    "\n",
    "    \n",
    "</svg>\n"
   ]
  },
  {
   "cell_type": "code",
   "execution_count": null,
   "id": "190e51fb",
   "metadata": {},
   "outputs": [],
   "source": []
  }
 ],
 "metadata": {
  "kernelspec": {
   "display_name": "base",
   "language": "python",
   "name": "python3"
  },
  "language_info": {
   "codemirror_mode": {
    "name": "ipython",
    "version": 3
   },
   "file_extension": ".py",
   "mimetype": "text/x-python",
   "name": "python",
   "nbconvert_exporter": "python",
   "pygments_lexer": "ipython3",
   "version": "3.9.13"
  },
  "vscode": {
   "interpreter": {
    "hash": "bdb6641bb7b435f9c1ff06a70eded2d6f30bf8e680f4eb1f3c1f955f413fdf46"
   }
  }
 },
 "nbformat": 4,
 "nbformat_minor": 5
}
