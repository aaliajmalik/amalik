{
 "cells": [
  {
   "cell_type": "markdown",
   "metadata": {},
   "source": [
    "# 1. Population Genetics Simulation\n",
    "\n",
    "Create a program that simulates the allelic frequency in a finite diploid population for a certain number of generations.\n",
    "\n",
    "The program takes as input the initial allele frequencies, the fitness of each genotype, the population size, and the number of generations. Because these simulations are stochastic each run of the simulation will give a different result, to allow an idea of the behavior of the allelic frequencies, your program should repeat the simulations many times for each parameter set and plot all the results in a single graph. The number of simulations should also be determined by the user. You can start your program using the variable definitions in the cell below.\n",
    "\n",
    "Your program should output two graphs. The first should show the allele frequency at each generation, and the other should be a histogram with the final values of the allele frequency. Something like this:\n",
    "\n",
    "![simulation](Sim1.png)\n",
    "\n",
    "![histogram](Sim2.png)\n",
    "\n",
    "Last year a student used this homework as the starting point for her project to create a population genetics simulator for BIOL040. You can see the final project here: http://dna.pomona.edu:5006/pop_gen_sim"
   ]
  },
  {
   "cell_type": "code",
   "execution_count": 1,
   "metadata": {},
   "outputs": [],
   "source": [
    "#Packages\n",
    "from numpy import random as rd\n",
    "from plotly.graph_objs import *\n",
    "\n",
    "#Allele frequencies\n",
    "initA = 0.50\n",
    "inita = 0.50\n",
    "\n",
    "#Fitnesses\n",
    "fAA = 1\n",
    "fAa = 1\n",
    "faa = 1\n",
    "\n",
    "#Pop Size\n",
    "pop = 1000\n",
    "\n",
    "#Number of generations\n",
    "gen = 100\n",
    "\n",
    "#Number of simulations\n",
    "sim = 100"
   ]
  },
  {
   "cell_type": "code",
   "execution_count": 4,
   "metadata": {},
   "outputs": [
    {
     "ename": "NameError",
     "evalue": "name 'TOT' is not defined",
     "output_type": "error",
     "traceback": [
      "\u001b[0;31m---------------------------------------------------------------------------\u001b[0m",
      "\u001b[0;31mNameError\u001b[0m                                 Traceback (most recent call last)",
      "\u001b[0;32m/var/folders/1h/d7jrhj0912qc6jg546194yyr0000gn/T/ipykernel_19522/3935375405.py\u001b[0m in \u001b[0;36m<module>\u001b[0;34m\u001b[0m\n\u001b[1;32m     14\u001b[0m \u001b[0;34m\u001b[0m\u001b[0m\n\u001b[1;32m     15\u001b[0m         \u001b[0;31m#inital calculations\u001b[0m\u001b[0;34m\u001b[0m\u001b[0;34m\u001b[0m\u001b[0m\n\u001b[0;32m---> 16\u001b[0;31m         \u001b[0mAA\u001b[0m \u001b[0;34m=\u001b[0m \u001b[0mAAi\u001b[0m\u001b[0;34m/\u001b[0m\u001b[0mTOT\u001b[0m\u001b[0;34m\u001b[0m\u001b[0;34m\u001b[0m\u001b[0m\n\u001b[0m\u001b[1;32m     17\u001b[0m         \u001b[0maa\u001b[0m \u001b[0;34m=\u001b[0m \u001b[0maai\u001b[0m\u001b[0;34m/\u001b[0m\u001b[0mTOT\u001b[0m\u001b[0;34m\u001b[0m\u001b[0;34m\u001b[0m\u001b[0m\n\u001b[1;32m     18\u001b[0m         \u001b[0mTOT\u001b[0m \u001b[0;34m=\u001b[0m \u001b[0mAA\u001b[0m \u001b[0;34m+\u001b[0m \u001b[0mAa\u001b[0m \u001b[0;34m+\u001b[0m \u001b[0maa\u001b[0m\u001b[0;34m\u001b[0m\u001b[0;34m\u001b[0m\u001b[0m\n",
      "\u001b[0;31mNameError\u001b[0m: name 'TOT' is not defined"
     ]
    }
   ],
   "source": [
    "listTRACES = []\n",
    "finalA = []\n",
    "\n",
    "for sim in range(pop):\n",
    "    cvalues = []\n",
    "    gvalues = []\n",
    "    A = initA\n",
    "    a = A - 1\n",
    "    \n",
    "    for gen in range(pop):\n",
    "        AAi = A * A * fAA\n",
    "        Aai = 2 * A * a * fAa\n",
    "        aai = a * a * faa\n",
    "\n",
    "        #inital calculations\n",
    "        TOT = AA + Aa + aa\n",
    "        AA = AAi/TOT\n",
    "        Aa = Aai/TOT\n",
    "        aa = aai/TOT\n",
    "        \n",
    "        \n",
    "        #working in a finite population\n",
    "        nAA = random.binomial(pop, AA)\n",
    "        nAa = random.binomial(pop, Aa)\n",
    "        naa = random.binomial(pop, aa)\n",
    "        TOTn = nAA + nAa + naa\n",
    "\n",
    "        #new calculations\n",
    "        AAf = nAA/TOT\n",
    "        Aaf = nAa/TOT\n",
    "        aaf = naa/TOT\n",
    "        A = (AAf + Aaf)/2\n",
    "    \n",
    "#plugging values back to the loop\n",
    "\n",
    "#plottraces\n",
    "    \n",
    "        \n",
    "        \n",
    "    \n"
   ]
  },
  {
   "cell_type": "code",
   "execution_count": null,
   "metadata": {},
   "outputs": [],
   "source": []
  }
 ],
 "metadata": {
  "anaconda-cloud": {},
  "kernelspec": {
   "display_name": "Python 3 (ipykernel)",
   "language": "python",
   "name": "python3"
  },
  "language_info": {
   "codemirror_mode": {
    "name": "ipython",
    "version": 3
   },
   "file_extension": ".py",
   "mimetype": "text/x-python",
   "name": "python",
   "nbconvert_exporter": "python",
   "pygments_lexer": "ipython3",
   "version": "3.9.13"
  },
  "vscode": {
   "interpreter": {
    "hash": "bdb6641bb7b435f9c1ff06a70eded2d6f30bf8e680f4eb1f3c1f955f413fdf46"
   }
  }
 },
 "nbformat": 4,
 "nbformat_minor": 1
}
