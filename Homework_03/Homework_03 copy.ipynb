{
 "cells": [
  {
   "cell_type": "markdown",
   "metadata": {},
   "source": [
    "# Homework 3:\n",
    "\n",
    "Do these exercises individually. You should use this ipython notebook and for each question you should have one code cell with you answer. Copy this notebook to your individual local repository in a directory called \"Homework_03\" and when you are done push the changes and sync with your github repository. If any of the questions need a separate file to be read by your program, add it to the same directory and make sure to push the file as well.\n",
    "\n",
    "A lot of these exercises are from this webpage: http://www.ling.gu.se/~lager/python_exercises.html. There are answers to these exercises online. Please do not copy the answers, you can search online for ideas but avoid using the text of the question on google."
   ]
  },
  {
   "cell_type": "markdown",
   "metadata": {},
   "source": [
    "__Exercise 1.__ Write a Python program that asks the user for the radius of a circle and computes the area of the circle."
   ]
  },
  {
   "cell_type": "code",
   "execution_count": 1,
   "metadata": {},
   "outputs": [
    {
     "name": "stdout",
     "output_type": "stream",
     "text": [
      "Enter circle radius:2\n",
      "Area of circle is:  12.566370614359172\n"
     ]
    }
   ],
   "source": [
    "import math\n",
    "radius = float(input(\"Enter circle radius:\" ))\n",
    "area = math.pi * radius * radius\n",
    "print(\"Area of circle is: \", area)"
   ]
  },
  {
   "cell_type": "markdown",
   "metadata": {},
   "source": [
    "__Exercise 2.__ Write a Python program that asks the user for a filename, and returns the extension of the file. Examples:\n",
    "\n",
    "* **test.txt**, extension is txt\n",
    "* **notebook.ipynb**, extension is ipynb\n",
    "* **case.1.txt**, extension is txt\n",
    "* **item.1.2.a.doc**, extension is doc\n",
    "* **file**, no extension, your program should return something saying that there is no extension"
   ]
  },
  {
   "cell_type": "code",
   "execution_count": 4,
   "metadata": {},
   "outputs": [
    {
     "name": "stdout",
     "output_type": "stream",
     "text": [
      "('item.1.2.a', '.doc')\n",
      "File Name:  item.1.2.a\n",
      "File Extension:  .doc\n"
     ]
    }
   ],
   "source": [
    "import os\n",
    "split_tup = os.path.splitext('item.1.2.a.doc')\n",
    "print(split_tup)\n",
    "\n",
    "file_name = split_tup[0]\n",
    "file_extension = split_tup[1]\n",
    "\n",
    "print(\"File Name: \", file_name)\n",
    "print(\"File Extension: \", file_extension)"
   ]
  },
  {
   "cell_type": "markdown",
   "metadata": {},
   "source": [
    "__Exercise 3.__ Write a Python program that requests two points from the user (in the form X, Y) computes the euclidian distance between the two points. In other words, given two points (x1,y1) and (x2, y2), return the distance between the points, given by:\n",
    "\n",
    "$$\n",
    "\\begin{equation*} d=\\sqrt{(x_2-x_1)^2+(y_2-y_1)^2} \\end{equation*}\n",
    "$$"
   ]
  },
  {
   "cell_type": "code",
   "execution_count": 5,
   "metadata": {},
   "outputs": [
    {
     "name": "stdout",
     "output_type": "stream",
     "text": [
      "Enter x-coordinate for point 1: 2\n",
      "Enter y-coordinate for point 1: 2\n",
      "Enter x-coordinate for point 2: 3\n",
      "Enter y-coordinate for point 2: 3\n",
      "1.4142135623730951\n"
     ]
    }
   ],
   "source": [
    "import math\n",
    "x1 = float(input(\"Enter x-coordinate for point 1: \"))\n",
    "y1 = float(input(\"Enter y-coordinate for point 1: \"))\n",
    "x2 = float(input(\"Enter x-coordinate for point 2: \"))\n",
    "y2 = float(input(\"Enter y-coordinate for point 2: \"))\n",
    "distance = math.sqrt(((x2-x1)**2)+((y2-y1)**2))\n",
    "print(distance)"
   ]
  },
  {
   "cell_type": "markdown",
   "metadata": {},
   "source": [
    "__Exercise 4.__ Create a **function** called `max_in_list()` that takes a list of numbers of any length and returns the largest one without using python's builtin `max()`. Your program should work for any numbers, including negative numbers. "
   ]
  },
  {
   "cell_type": "code",
   "execution_count": 6,
   "metadata": {},
   "outputs": [
    {
     "name": "stdout",
     "output_type": "stream",
     "text": [
      "max number is:  10\n"
     ]
    }
   ],
   "source": [
    "def max_in_list(numbers):\n",
    "    highest = numbers[0] #start with the first number in the list as the highest value\n",
    "    for x in numbers: #compare the first value to the next value\n",
    "        if x > highest: \n",
    "            highest = x #set new highest value to the larger value\n",
    "    return highest\n",
    "numbers = [1,-2,10,-4,5]\n",
    "print(\"max number is: \", max_in_list(numbers))"
   ]
  },
  {
   "cell_type": "markdown",
   "metadata": {},
   "source": [
    "__Exercise 5.__ Write a **function** `translate()` that will translate a text into pig Latin. According to wikipedia here are the rules for pig latin:\n",
    "\n",
    "1. For words that begin with consonant sounds, all letters before the initial vowel are placed at the end of the word sequence. Then, \"ay\" (some people just add \"a\") is added, as in the following examples:\n",
    "  * pig → igpay\n",
    "  * banana → ananabay\n",
    "  * trash → ashtray\n",
    "  * happy → appyhay\n",
    "2. For words which begin with vowel sounds or silent letter, one just adds \"yay\" to the end. Examples are:\n",
    "  * eat → eatyay\n",
    "  * omelet → omeletyay\n",
    "  \n",
    "Your program should work at least for the following text:\n",
    "\n",
    "Hello. My name is Andre. \n",
    "\n",
    "And it should return:\n",
    "\n",
    "ellohay. ymay amenay isyay andreyay. "
   ]
  },
  {
   "cell_type": "code",
   "execution_count": 7,
   "metadata": {},
   "outputs": [
    {
     "name": "stdout",
     "output_type": "stream",
     "text": [
      "Pig Latin:  ellohay ymay amenay isyay andreyay\n"
     ]
    }
   ],
   "source": [
    "english_sentence = (\"Hello My name is Andre\")\n",
    "lower_english = english_sentence.lower() \n",
    "words = lower_english.split()\n",
    "\n",
    "for i, word in enumerate(words):\n",
    "    \n",
    "    '''\n",
    "    if first letter is a vowel\n",
    "    '''\n",
    "    if word[0] in 'aeiouy':\n",
    "        words[i] = words[i]+ \"yay\"\n",
    "    else:\n",
    "        '''\n",
    "        else get vowel position and postfix all the consonants \n",
    "        present before that vowel to the end of the word along with \"ay\"\n",
    "        '''\n",
    "        has_vowel = False\n",
    "        \n",
    "        for j, letter in enumerate(word):\n",
    "            if letter in 'aeiouy':\n",
    "                words[i] = word[j:] + word[:j] + \"ay\"\n",
    "                has_vowel = True\n",
    "                break\n",
    "\n",
    "        #if the word doesn't have any vowel then simply postfix \"ay\"\n",
    "        if(has_vowel == False):\n",
    "            words[i] = words[i]+ \"ay\"\n",
    "\n",
    "pig_latin = ' '.join(words)\n",
    "print(\"Pig Latin: \",pig_latin)\n",
    "\n"
   ]
  },
  {
   "cell_type": "markdown",
   "metadata": {},
   "source": [
    "__Exercise 6.__  Palindromes are words or phrases that read the same when written backwards.Create a **function** `is_palindrome()` that receives a string variable and determines if it is a palindrome. \n",
    "\n",
    "The function should return true or false, and most importantly, should ignore punctuation, capitalization, and spacing.\n",
    "\n",
    "Palindrome examples: \n",
    "```\n",
    "\"Go hang a salami I'm a lasagna hog.\", \n",
    "\"Was it a rat I saw?\", \n",
    "\"Step on no pets\", \n",
    "\"Sit on a potato pan, Otis\", \n",
    "\"Lisa Bonet ate no basil\", \n",
    "\"Satan, oscillate my metallic sonatas\", \n",
    "\"I roamed under it as a tired nude Maori\", \n",
    "\"Rise to vote sir\", \n",
    "\"Dammit, I'm mad!\"\n",
    "```"
   ]
  },
  {
   "cell_type": "code",
   "execution_count": 2,
   "metadata": {},
   "outputs": [
    {
     "name": "stdout",
     "output_type": "stream",
     "text": [
      "true\n"
     ]
    }
   ],
   "source": [
    "import string\n",
    "\n",
    "def isPalindrome(s):\n",
    "    return s == s[::-1] #this will return the reverse of a string\n",
    "\n",
    "s = \"Was it a rat I saw?\". replace(\" \", \"\") \n",
    "s = s.translate(str.maketrans('', '', string.punctuation))\n",
    "low_s = s.lower()\n",
    "#print(low_s)\n",
    "ans = isPalindrome(low_s)\n",
    "\n",
    "if ans:\n",
    "    print(\"true\")\n",
    "else:\n",
    "    print(\"false\")\n",
    "\n"
   ]
  },
  {
   "cell_type": "markdown",
   "metadata": {},
   "source": [
    "__Exercise 7.__ Write a program that asks the user for a file name, opens the file, reads each line, and uses the `is_palindrome()` function from the previous exercise to print the line to the screen if it is a palindrome.\n",
    "\n",
    "I'll test the program with the palindromes.txt file in this directory. When given this file, your program should output:\n",
    "\n",
    "```\n",
    "was it a rat i saw?!?\n",
    "Are we not drawn onward, we few, drawn onward to new era?\n",
    "A man, a plan, a canal - Panama\n",
    "Never odd or even\n",
    "aviva\n",
    "```"
   ]
  },
  {
   "cell_type": "code",
   "execution_count": 49,
   "metadata": {},
   "outputs": [
    {
     "data": {
      "text/plain": [
       "True"
      ]
     },
     "execution_count": 49,
     "metadata": {},
     "output_type": "execute_result"
    }
   ],
   "source": [
    "isPalindrome('neveroddoreven')"
   ]
  },
  {
   "cell_type": "code",
   "execution_count": 71,
   "metadata": {},
   "outputs": [
    {
     "name": "stdout",
     "output_type": "stream",
     "text": [
      "was it a rat i saw?!?\n",
      "\n",
      "Are we not drawn onward, we few, drawn onward to new era?\n",
      "\n",
      "A man, a plan, a canal - Panama\n",
      "\n",
      "Never odd or even\n",
      "\n",
      "aviva\n"
     ]
    }
   ],
   "source": [
    "def isPalindromee(s):\n",
    "    return s == s[::-1]\n",
    "\n",
    "inputPath = \"/Users/aaliamalik/Desktop/amalik/Homework_03/palindromes.txt\" # path of input file\n",
    "\n",
    "\n",
    "\n",
    "reader = open(inputPath, 'r') # to read file content\n",
    "lines = reader.readlines() # reading all lines of file\n",
    "\n",
    "#count = 0 # to count number of palindromes\n",
    "for line in lines: # iterate through each line\n",
    "    #print(line)\n",
    "    s = line.replace(\" \", \"\") \n",
    "    #print(s)\n",
    "    s = s.translate(str.maketrans('', '', string.punctuation))\n",
    "    #print(s)\n",
    "    low_s = s.lower()\n",
    "    low_s = low_s.replace(\"\\n\",\"\")\n",
    "    #print(low_s)\n",
    "    ans = isPalindromee(str(low_s))\n",
    "    #print(low_s)\n",
    "    if ans:\n",
    "        print(line)\n",
    "    else:\n",
    "        pass\n",
    "        #count += 1\n",
    "        #writer.write(line + \"\\n\")\n",
    "   \n",
    "\n",
    "# close files\n",
    "\n",
    "reader.close()\n"
   ]
  },
  {
   "cell_type": "markdown",
   "metadata": {},
   "source": [
    "__Exercise 8.__ According to Wikipedia, a semordnilap is a word or phrase that spells a different word or phrase backwards. (\"Semordnilap\" is itself \"palindromes\" spelled backwards.) Write a semordnilap recogniser that accepts a file name from the user for a file containing a list of words, one per line. The program will read the file and find and print all pairs of words that are semordnilaps to the screen. \n",
    "\n",
    "For example, if \"stressed\" and \"desserts\" are part of the word list, the output should include the pair \"stressed desserts\". Note, by the way, that each pair by itself forms a palindrome. But it should output each pair only once, so if the program output \"stressed desserts\" it should not output \"desserts stressed\".\n",
    "\n",
    "You can test your program using the file: `semordnilap.txt`. It should return:\n",
    "\n",
    "```\n",
    "desserts stressed\n",
    "Semordnilap palindromes\n",
    "```"
   ]
  },
  {
   "cell_type": "code",
   "execution_count": 72,
   "metadata": {},
   "outputs": [
    {
     "ename": "SyntaxError",
     "evalue": "invalid syntax (208657717.py, line 2)",
     "output_type": "error",
     "traceback": [
      "\u001b[0;36m  File \u001b[0;32m\"/var/folders/1h/d7jrhj0912qc6jg546194yyr0000gn/T/ipykernel_14089/208657717.py\"\u001b[0;36m, line \u001b[0;32m2\u001b[0m\n\u001b[0;31m    file = open(/Users/aaliamalik/Desktop/amalik/Homework_03/semordnilap.txt)\u001b[0m\n\u001b[0m                ^\u001b[0m\n\u001b[0;31mSyntaxError\u001b[0m\u001b[0;31m:\u001b[0m invalid syntax\n"
     ]
    }
   ],
   "source": [
    "def is_semordnilap(file):\n",
    "    \n",
    "    file = open(/Users/aaliamalik/Desktop/amalik/Homework_03/semordnilap.txt)\n",
    "    words = file.read().split()\n",
    "    results = []\n",
    "    for word1 in words:\n",
    "        for word2 in words:\n",
    "            if word1 == word2[::-1]:\n",
    "                results.append(word1)\n",
    "    return results\n",
    "    print (results)\n",
    "\n",
    "\n"
   ]
  },
  {
   "cell_type": "markdown",
   "metadata": {},
   "source": [
    "__Exercise 9.__ Write a program that asks for a filename, reads all the words in the file, calculates the average word length and creates a histogram of words length. \n",
    "\n",
    "A histogram shows how many times you encountered a word of a given size. \n",
    "The output of the program should look like:\n",
    "\n",
    "```\n",
    "The file: filename contains X words, the average length of the words is: Y.\n",
    "Histogram of the word sizes:\n",
    "1: ***********\n",
    "2: ********\n",
    "3: *************\n",
    "4: *********\n",
    "....\n",
    "```\n",
    "\n",
    "I'll test using this file: text.txt. Your output should be:\n",
    "\n",
    "```\n",
    "The file text.txt contains 69 words, with an average word length of 5. Histogram of the word sizes:\n",
    "1: \n",
    "2: *************\n",
    "3: *****\n",
    "4: ***********\n",
    "5: **********\n",
    "6: *********\n",
    "7: ********\n",
    "8: ****\n",
    "9: ****\n",
    "10: **\n",
    "11: *\n",
    "12: *\n",
    "13: *\n",
    "```\n",
    "\n",
    "To do this, you need to find the size of each word, and then count all words of size 1, size 2, etc. Each ```*``` in each row in your histogram represents one occurrence of a word of that size."
   ]
  },
  {
   "cell_type": "code",
   "execution_count": null,
   "metadata": {},
   "outputs": [],
   "source": [
    "\n",
    "def word_histogram(text.txt):\n",
    "\n",
    "    # open the file in read mode\n",
    "    file = open(text.txt)\n",
    "    # create an empty list to store the lengths of words read\n",
    "    word_lengths = []\n",
    "\n",
    "    # loop over the file line by line\n",
    "    for line in file:\n",
    "        # strip is used to remove leading and trailing whitespace from file\n",
    "        # split is used to split the input string into a list of strings using whitespace as the delimiter\n",
    "        words = line.strip().split()\n",
    "        # loop over the words list, appending the length of each word into word_lengths list\n",
    "        for word in words:\n",
    "            word_lengths.append(len(word))\n",
    "    # close the file\n",
    "    file.close()\n",
    "    # get the minimum and maximum value of list\n",
    "    min_length = min(word_lengths)\n",
    "    max_length = max(word_lengths)\n",
    "\n",
    "    # loop from min_length to max_length(inclusive), displaying the frequency of each i in word_lengths\n",
    "    for i in range(min_length, max_length+1):\n",
    "        # count returns the number of times i occurs in list word_lengths\n",
    "        print('{} {}'.format(i, word_lengths.count(i)))\n",
    "\n",
    "# test the function\n",
    "if __name__ == \"__main__\":\n",
    "    word_histogram(\"text.txt\")\n",
    "\n",
    "#end of program"
   ]
  },
  {
   "cell_type": "markdown",
   "metadata": {},
   "source": [
    "__Exercise 10.__ Write a program able to play the \"Guess the number\" game, where the number to be guessed is randomly chosen between 1 and 20. This is how it should work when run:\n",
    "\n",
    "```\n",
    "Hello! What is your name?\n",
    "  Andre\n",
    "Well, Andre, I am thinking of a number between 1 and 20.\n",
    "Take a guess.\n",
    "  10\n",
    "Your guess is too low.\n",
    "Take a guess.\n",
    "  15\n",
    "Your guess is too low.\n",
    "Take a guess.\n",
    "  18\n",
    "Good job, Andre! You guessed my number in 3 guesses!\n",
    "```"
   ]
  },
  {
   "cell_type": "code",
   "execution_count": 89,
   "metadata": {},
   "outputs": [
    {
     "name": "stdout",
     "output_type": "stream",
     "text": [
      "Hello! What is your name?\n",
      "Well, g, I am thinking of a number between 1 and 20. Take a guess.\n",
      "\n",
      "\tYou've only  4  chances to guess the integer!\n",
      "\n"
     ]
    },
    {
     "ename": "KeyboardInterrupt",
     "evalue": "Interrupted by user",
     "output_type": "error",
     "traceback": [
      "\u001b[0;31m---------------------------------------------------------------------------\u001b[0m",
      "\u001b[0;31mKeyboardInterrupt\u001b[0m                         Traceback (most recent call last)",
      "\u001b[0;32m/var/folders/1h/d7jrhj0912qc6jg546194yyr0000gn/T/ipykernel_14089/3086232079.py\u001b[0m in \u001b[0;36m<module>\u001b[0;34m\u001b[0m\n\u001b[1;32m     30\u001b[0m \u001b[0;34m\u001b[0m\u001b[0m\n\u001b[1;32m     31\u001b[0m     \u001b[0;31m# taking guessing number as input\u001b[0m\u001b[0;34m\u001b[0m\u001b[0;34m\u001b[0m\u001b[0m\n\u001b[0;32m---> 32\u001b[0;31m     \u001b[0mguess\u001b[0m \u001b[0;34m=\u001b[0m \u001b[0mint\u001b[0m\u001b[0;34m(\u001b[0m\u001b[0minput\u001b[0m\u001b[0;34m(\u001b[0m\u001b[0;34m\"Guess a number:- \"\u001b[0m\u001b[0;34m)\u001b[0m\u001b[0;34m)\u001b[0m\u001b[0;34m\u001b[0m\u001b[0;34m\u001b[0m\u001b[0m\n\u001b[0m\u001b[1;32m     33\u001b[0m \u001b[0;34m\u001b[0m\u001b[0m\n\u001b[1;32m     34\u001b[0m     \u001b[0;31m# Condition testing\u001b[0m\u001b[0;34m\u001b[0m\u001b[0;34m\u001b[0m\u001b[0m\n",
      "\u001b[0;32m~/opt/anaconda3/lib/python3.9/site-packages/ipykernel/kernelbase.py\u001b[0m in \u001b[0;36mraw_input\u001b[0;34m(self, prompt)\u001b[0m\n\u001b[1;32m   1175\u001b[0m                 \u001b[0;34m\"raw_input was called, but this frontend does not support input requests.\"\u001b[0m\u001b[0;34m\u001b[0m\u001b[0;34m\u001b[0m\u001b[0m\n\u001b[1;32m   1176\u001b[0m             )\n\u001b[0;32m-> 1177\u001b[0;31m         return self._input_request(\n\u001b[0m\u001b[1;32m   1178\u001b[0m             \u001b[0mstr\u001b[0m\u001b[0;34m(\u001b[0m\u001b[0mprompt\u001b[0m\u001b[0;34m)\u001b[0m\u001b[0;34m,\u001b[0m\u001b[0;34m\u001b[0m\u001b[0;34m\u001b[0m\u001b[0m\n\u001b[1;32m   1179\u001b[0m             \u001b[0mself\u001b[0m\u001b[0;34m.\u001b[0m\u001b[0m_parent_ident\u001b[0m\u001b[0;34m[\u001b[0m\u001b[0;34m\"shell\"\u001b[0m\u001b[0;34m]\u001b[0m\u001b[0;34m,\u001b[0m\u001b[0;34m\u001b[0m\u001b[0;34m\u001b[0m\u001b[0m\n",
      "\u001b[0;32m~/opt/anaconda3/lib/python3.9/site-packages/ipykernel/kernelbase.py\u001b[0m in \u001b[0;36m_input_request\u001b[0;34m(self, prompt, ident, parent, password)\u001b[0m\n\u001b[1;32m   1217\u001b[0m             \u001b[0;32mexcept\u001b[0m \u001b[0mKeyboardInterrupt\u001b[0m\u001b[0;34m:\u001b[0m\u001b[0;34m\u001b[0m\u001b[0;34m\u001b[0m\u001b[0m\n\u001b[1;32m   1218\u001b[0m                 \u001b[0;31m# re-raise KeyboardInterrupt, to truncate traceback\u001b[0m\u001b[0;34m\u001b[0m\u001b[0;34m\u001b[0m\u001b[0m\n\u001b[0;32m-> 1219\u001b[0;31m                 \u001b[0;32mraise\u001b[0m \u001b[0mKeyboardInterrupt\u001b[0m\u001b[0;34m(\u001b[0m\u001b[0;34m\"Interrupted by user\"\u001b[0m\u001b[0;34m)\u001b[0m \u001b[0;32mfrom\u001b[0m \u001b[0;32mNone\u001b[0m\u001b[0;34m\u001b[0m\u001b[0;34m\u001b[0m\u001b[0m\n\u001b[0m\u001b[1;32m   1220\u001b[0m             \u001b[0;32mexcept\u001b[0m \u001b[0mException\u001b[0m\u001b[0;34m:\u001b[0m\u001b[0;34m\u001b[0m\u001b[0;34m\u001b[0m\u001b[0m\n\u001b[1;32m   1221\u001b[0m                 \u001b[0mself\u001b[0m\u001b[0;34m.\u001b[0m\u001b[0mlog\u001b[0m\u001b[0;34m.\u001b[0m\u001b[0mwarning\u001b[0m\u001b[0;34m(\u001b[0m\u001b[0;34m\"Invalid Message:\"\u001b[0m\u001b[0;34m,\u001b[0m \u001b[0mexc_info\u001b[0m\u001b[0;34m=\u001b[0m\u001b[0;32mTrue\u001b[0m\u001b[0;34m)\u001b[0m\u001b[0;34m\u001b[0m\u001b[0;34m\u001b[0m\u001b[0m\n",
      "\u001b[0;31mKeyboardInterrupt\u001b[0m: Interrupted by user"
     ]
    }
   ],
   "source": [
    "import random\n",
    "import math\n",
    "# Taking Inputs\n",
    "lower = 1\n",
    " \n",
    "# Taking Inputs\n",
    "upper = 20\n",
    " \n",
    "\n",
    "myName = input()\n",
    "print('Hello! What is your name?')\n",
    "\n",
    "number = random.randint(1, 20)\n",
    "print('Well, ' + myName + ', I am thinking of a number between 1 and 20. Take a guess.')\n",
    "\n",
    "# generating random number between\n",
    "# the lower and upper\n",
    "x = random.randint(lower, upper)\n",
    "print(\"\\n\\tYou've only \",\n",
    "       round(math.log(upper - lower + 1, 2)),\n",
    "      \" chances to guess the integer!\\n\")\n",
    " \n",
    "# Initializing the number of guesses.\n",
    "count = 0\n",
    " \n",
    "# for calculation of minimum number of\n",
    "# guesses depends upon range\n",
    "while count < math.log(upper - lower + 1, 2):\n",
    "    count += 1\n",
    " \n",
    "    # taking guessing number as input\n",
    "    guess = int(input(\"Guess a number:- \"))\n",
    " \n",
    "    # Condition testing\n",
    "    if x == guess:\n",
    "        print(\"Good job you did it in \",\n",
    "              count, \" try\")\n",
    "        # Once guessed, loop will break\n",
    "        break\n",
    "    elif x > guess:\n",
    "        print(\"You guessed too small!\")\n",
    "    elif x < guess:\n",
    "        print(\"You Guessed too high!\")\n",
    "\n"
   ]
  }
 ],
 "metadata": {
  "anaconda-cloud": {},
  "kernelspec": {
   "display_name": "Python 3 (ipykernel)",
   "language": "python",
   "name": "python3"
  },
  "language_info": {
   "codemirror_mode": {
    "name": "ipython",
    "version": 3
   },
   "file_extension": ".py",
   "mimetype": "text/x-python",
   "name": "python",
   "nbconvert_exporter": "python",
   "pygments_lexer": "ipython3",
   "version": "3.9.13"
  },
  "vscode": {
   "interpreter": {
    "hash": "bdb6641bb7b435f9c1ff06a70eded2d6f30bf8e680f4eb1f3c1f955f413fdf46"
   }
  }
 },
 "nbformat": 4,
 "nbformat_minor": 1
}
