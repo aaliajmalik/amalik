{
 "cells": [
  {
   "cell_type": "markdown",
   "metadata": {},
   "source": [
    "# Homework 3:\n",
    "\n",
    "Do these exercises individually. You should use this ipython notebook and for each question you should have one code cell with you answer. Copy this notebook to your individual local repository in a directory called \"Homework_03\" and when you are done push the changes and sync with your github repository. If any of the questions need a separate file to be read by your program, add it to the same directory and make sure to push the file as well.\n",
    "\n",
    "A lot of these exercises are from this webpage: http://www.ling.gu.se/~lager/python_exercises.html. There are answers to these exercises online. Please do not copy the answers, you can search online for ideas but avoid using the text of the question on google."
   ]
  },
  {
   "cell_type": "markdown",
   "metadata": {},
   "source": [
    "__Exercise 1.__ Write a Python program that asks the user for the radius of a circle and computes the area of the circle."
   ]
  },
  {
   "cell_type": "code",
   "execution_count": 4,
   "metadata": {
    "collapsed": true
   },
   "outputs": [
    {
     "name": "stdout",
     "output_type": "stream",
     "text": [
      "Area of circle is:  12.566370614359172\n"
     ]
    }
   ],
   "source": [
    "import math\n",
    "radius = float(input(\"Enter circle radius:\" ))\n",
    "area = math.pi * radius * radius\n",
    "print(\"Area of circle is: \", area)"
   ]
  },
  {
   "cell_type": "markdown",
   "metadata": {},
   "source": [
    "__Exercise 2.__ Write a Python program that asks the user for a filename, and returns the extension of the file. Examples:\n",
    "\n",
    "* **test.txt**, extension is txt\n",
    "* **notebook.ipynb**, extension is ipynb\n",
    "* **case.1.txt**, extension is txt\n",
    "* **item.1.2.a.doc**, extension is doc\n",
    "* **file**, no extension, your program should return something saying that there is no extension"
   ]
  },
  {
   "cell_type": "code",
   "execution_count": 6,
   "metadata": {
    "collapsed": true
   },
   "outputs": [
    {
     "name": "stdout",
     "output_type": "stream",
     "text": [
      "('notebook', '.ipynb')\n",
      "File Name:  notebook\n",
      "File Extension:  .ipynb\n"
     ]
    }
   ],
   "source": [
    "import os\n",
    "split_tup = os.path.splitext('notebook.ipynb')\n",
    "print(split_tup)\n",
    "\n",
    "file_name = split_tup[0]\n",
    "file_extension = split_tup[1]\n",
    "\n",
    "print(\"File Name: \", file_name)\n",
    "print(\"File Extension: \", file_extension)"
   ]
  },
  {
   "cell_type": "markdown",
   "metadata": {},
   "source": [
    "__Exercise 3.__ Write a Python program that requests two points from the user (in the form X, Y) computes the euclidian distance between the two points. In other words, given two points (x1,y1) and (x2, y2), return the distance between the points, given by:\n",
    "\n",
    "$$\n",
    "\\begin{equation*} d=\\sqrt{(x_2-x_1)^2+(y_2-y_1)^2} \\end{equation*}\n",
    "$$"
   ]
  },
  {
   "cell_type": "code",
   "execution_count": 10,
   "metadata": {
    "collapsed": true
   },
   "outputs": [
    {
     "name": "stdout",
     "output_type": "stream",
     "text": [
      "5.0\n"
     ]
    }
   ],
   "source": [
    "import math\n",
    "x1 = float(input(\"Enter x-coordinate for point 1: \"))\n",
    "y1 = float(input(\"Enter y-coordinate for point 1: \"))\n",
    "x2 = float(input(\"Enter x-coordinate for point 2: \"))\n",
    "y2 = float(input(\"Enter y-coordinate for point 2: \"))\n",
    "distance = math.sqrt(((x2-x1)**2)+((y2-y1)**2))\n",
    "print(distance)"
   ]
  },
  {
   "cell_type": "markdown",
   "metadata": {},
   "source": [
    "__Exercise 4.__ Create a **function** called `max_in_list()` that takes a list of numbers of any length and returns the largest one without using python's builtin `max()`. Your program should work for any numbers, including negative numbers. "
   ]
  },
  {
   "cell_type": "code",
   "execution_count": 18,
   "metadata": {},
   "outputs": [
    {
     "name": "stdout",
     "output_type": "stream",
     "text": [
      "max number is:  10\n"
     ]
    }
   ],
   "source": [
    "def max_in_list(numbers):\n",
    "    highest = numbers[0] #start with the first number in the list as the highest value\n",
    "    for x in numbers: #compare the first value to the next value\n",
    "        if x > highest: \n",
    "            highest = x #set new highest value to the larger value\n",
    "    return highest\n",
    "numbers = [1,-2,10,-4,5]\n",
    "print(\"max number is: \", max_in_list(numbers))"
   ]
  },
  {
   "cell_type": "markdown",
   "metadata": {},
   "source": [
    "__Exercise 5.__ Write a **function** `translate()` that will translate a text into pig Latin. According to wikipedia here are the rules for pig latin:\n",
    "\n",
    "1. For words that begin with consonant sounds, all letters before the initial vowel are placed at the end of the word sequence. Then, \"ay\" (some people just add \"a\") is added, as in the following examples:\n",
    "  * pig → igpay\n",
    "  * banana → ananabay\n",
    "  * trash → ashtray\n",
    "  * happy → appyhay\n",
    "2. For words which begin with vowel sounds or silent letter, one just adds \"yay\" to the end. Examples are:\n",
    "  * eat → eatyay\n",
    "  * omelet → omeletyay\n",
    "  \n",
    "Your program should work at least for the following text:\n",
    "\n",
    "Hello. My name is Andre. \n",
    "\n",
    "And it should return:\n",
    "\n",
    "ellohay. ymay amenay isyay andreyay. "
   ]
  },
  {
   "cell_type": "code",
   "execution_count": 43,
   "metadata": {
    "collapsed": true
   },
   "outputs": [
    {
     "name": "stdout",
     "output_type": "stream",
     "text": [
      "elloHay Myay amenay isyay Andreyay\n"
     ]
    }
   ],
   "source": [
    "english_sentence = (\"Hello My name is Andre\")\n",
    "english_words = english_sentence.split()\n",
    "translate = []\n",
    "\n",
    "vowels = ['a','e','i','o','u', 'A', 'E', 'I', 'O', 'U']\n",
    "\n",
    "for word in english_words:\n",
    "    has_vowel = False\n",
    "\n",
    "    for i in range(len(word)):\n",
    "        \n",
    "        '''\n",
    "        if first letter is a vowel\n",
    "        '''\n",
    "        if word[0] in vowels:\n",
    "            translate.append(word + \"yay\")\n",
    "            break\n",
    "        else:\n",
    "            '''\n",
    "            else get vowel position and postfix all the consonants \n",
    "            present before that vowel to the end of the word along with \"ay\"\n",
    "            '''\n",
    "            \n",
    "            if word[i] in vowels:\n",
    "                translate.append(word[i:] + word[:i] + \"ay\")\n",
    "                has_vowel = True\n",
    "                break\n",
    "\n",
    "            #if the word doesn't have any vowel then simply postfix \"ay\"\n",
    "            if(has_vowel == False and i == len(word)-1):\n",
    "                translate.append(word + \"ay\")\n",
    "                break\n",
    "\n",
    "pig_latin_sentence = ' '.join(latin_words)\n",
    "print(pig_latin_sentence)\n",
    "\n"
   ]
  },
  {
   "cell_type": "markdown",
   "metadata": {},
   "source": [
    "__Exercise 6.__  Palindromes are words or phrases that read the same when written backwards.Create a **function** `is_palindrome()` that receives a string variable and determines if it is a palindrome. \n",
    "\n",
    "The function should return true or false, and most importantly, should ignore punctuation, capitalization, and spacing.\n",
    "\n",
    "Palindrome examples: \n",
    "```\n",
    "\"Go hang a salami I'm a lasagna hog.\", \n",
    "\"Was it a rat I saw?\", \n",
    "\"Step on no pets\", \n",
    "\"Sit on a potato pan, Otis\", \n",
    "\"Lisa Bonet ate no basil\", \n",
    "\"Satan, oscillate my metallic sonatas\", \n",
    "\"I roamed under it as a tired nude Maori\", \n",
    "\"Rise to vote sir\", \n",
    "\"Dammit, I'm mad!\"\n",
    "```"
   ]
  },
  {
   "cell_type": "code",
   "execution_count": null,
   "metadata": {
    "collapsed": true
   },
   "outputs": [],
   "source": []
  },
  {
   "cell_type": "markdown",
   "metadata": {},
   "source": [
    "__Exercise 7.__ Write a program that asks the user for a file name, opens the file, reads each line, and uses the `is_palindrome()` function from the previous exercise to print the line to the screen if it is a palindrome.\n",
    "\n",
    "I'll test the program with the palindromes.txt file in this directory. When given this file, your program should output:\n",
    "\n",
    "```\n",
    "was it a rat i saw?!?\n",
    "Are we not drawn onward, we few, drawn onward to new era?\n",
    "A man, a plan, a canal - Panama\n",
    "Never odd or even\n",
    "aviva\n",
    "```"
   ]
  },
  {
   "cell_type": "code",
   "execution_count": null,
   "metadata": {
    "collapsed": true
   },
   "outputs": [],
   "source": []
  },
  {
   "cell_type": "markdown",
   "metadata": {},
   "source": [
    "__Exercise 8.__ According to Wikipedia, a semordnilap is a word or phrase that spells a different word or phrase backwards. (\"Semordnilap\" is itself \"palindromes\" spelled backwards.) Write a semordnilap recogniser that accepts a file name from the user for a file containing a list of words, one per line. The program will read the file and find and print all pairs of words that are semordnilaps to the screen. \n",
    "\n",
    "For example, if \"stressed\" and \"desserts\" are part of the word list, the output should include the pair \"stressed desserts\". Note, by the way, that each pair by itself forms a palindrome. But it should output each pair only once, so if the program output \"stressed desserts\" it should not output \"desserts stressed\".\n",
    "\n",
    "You can test your program using the file: `semordnilap.txt`. It should return:\n",
    "\n",
    "```\n",
    "desserts stressed\n",
    "Semordnilap palindromes\n",
    "```"
   ]
  },
  {
   "cell_type": "code",
   "execution_count": null,
   "metadata": {
    "collapsed": true
   },
   "outputs": [],
   "source": []
  },
  {
   "cell_type": "markdown",
   "metadata": {},
   "source": [
    "__Exercise 9.__ Write a program that asks for a filename, reads all the words in the file, calculates the average word length and creates a histogram of words length. \n",
    "\n",
    "A histogram shows how many times you encountered a word of a given size. \n",
    "The output of the program should look like:\n",
    "\n",
    "```\n",
    "The file: filename contains X words, the average length of the words is: Y.\n",
    "Histogram of the word sizes:\n",
    "1: ***********\n",
    "2: ********\n",
    "3: *************\n",
    "4: *********\n",
    "....\n",
    "```\n",
    "\n",
    "I'll test using this file: text.txt. Your output should be:\n",
    "\n",
    "```\n",
    "The file text.txt contains 69 words, with an average word length of 5. Histogram of the word sizes:\n",
    "1: \n",
    "2: *************\n",
    "3: *****\n",
    "4: ***********\n",
    "5: **********\n",
    "6: *********\n",
    "7: ********\n",
    "8: ****\n",
    "9: ****\n",
    "10: **\n",
    "11: *\n",
    "12: *\n",
    "13: *\n",
    "```\n",
    "\n",
    "To do this, you need to find the size of each word, and then count all words of size 1, size 2, etc. Each ```*``` in each row in your histogram represents one occurrence of a word of that size."
   ]
  },
  {
   "cell_type": "code",
   "execution_count": null,
   "metadata": {
    "collapsed": true
   },
   "outputs": [],
   "source": []
  },
  {
   "cell_type": "markdown",
   "metadata": {},
   "source": [
    "__Exercise 10.__ Write a program able to play the \"Guess the number\" game, where the number to be guessed is randomly chosen between 1 and 20. This is how it should work when run:\n",
    "\n",
    "```\n",
    "Hello! What is your name?\n",
    "  Andre\n",
    "Well, Andre, I am thinking of a number between 1 and 20.\n",
    "Take a guess.\n",
    "  10\n",
    "Your guess is too low.\n",
    "Take a guess.\n",
    "  15\n",
    "Your guess is too low.\n",
    "Take a guess.\n",
    "  18\n",
    "Good job, Andre! You guessed my number in 3 guesses!\n",
    "```"
   ]
  },
  {
   "cell_type": "code",
   "execution_count": null,
   "metadata": {
    "collapsed": true
   },
   "outputs": [],
   "source": []
  }
 ],
 "metadata": {
  "anaconda-cloud": {},
  "kernelspec": {
   "display_name": "base",
   "language": "python",
   "name": "python3"
  },
  "language_info": {
   "codemirror_mode": {
    "name": "ipython",
    "version": 3
   },
   "file_extension": ".py",
   "mimetype": "text/x-python",
   "name": "python",
   "nbconvert_exporter": "python",
   "pygments_lexer": "ipython3",
   "version": "3.9.7"
  },
  "vscode": {
   "interpreter": {
    "hash": "bdb6641bb7b435f9c1ff06a70eded2d6f30bf8e680f4eb1f3c1f955f413fdf46"
   }
  }
 },
 "nbformat": 4,
 "nbformat_minor": 1
}
